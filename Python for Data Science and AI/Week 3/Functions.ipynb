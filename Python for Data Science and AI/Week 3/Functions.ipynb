{
 "cells": [
  {
   "cell_type": "markdown",
   "metadata": {},
   "source": [
    "**Question 1:** \n",
    "Consider the function delta, when will the function return a value of 1\n",
    "\n",
    "def step(x): <br>\n",
    "    &emsp;if x>0: <br>\n",
    "        &emsp;&emsp;y=1 <br>\n",
    "    &emsp;else: <br>\n",
    "        &emsp;&emsp;y=0 <br>\n",
    "    &emsp;return y"
   ]
  },
  {
   "cell_type": "code",
   "execution_count": null,
   "metadata": {},
   "outputs": [],
   "source": [
    "if x is larger than 0"
   ]
  },
  {
   "cell_type": "markdown",
   "metadata": {},
   "source": [
    "**Question 2:**\n",
    "given the function add shown below, what does the following return:\n",
    "\n",
    "def add(x): <br>\n",
    "    &emsp;return(x+x)\n",
    "    \n",
    "add('1')"
   ]
  },
  {
   "cell_type": "code",
   "execution_count": null,
   "metadata": {},
   "outputs": [],
   "source": [
    "'11'"
   ]
  },
  {
   "cell_type": "markdown",
   "metadata": {},
   "source": [
    "**Question 3:**\n",
    "what does the following function return:\n",
    "\n",
    "def hello(): <br>\n",
    "    &emsp;print(\"hello\")"
   ]
  },
  {
   "cell_type": "code",
   "execution_count": null,
   "metadata": {},
   "outputs": [],
   "source": [
    "None"
   ]
  },
  {
   "cell_type": "markdown",
   "metadata": {},
   "source": [
    "**Question 4:**\n",
    "what is the output of the following lines of code:\n",
    "\n",
    "a=1\n",
    "\n",
    "def do(x): <br>\n",
    "    &emsp;return(x+a)\n",
    "\n",
    "print(do(1))"
   ]
  },
  {
   "cell_type": "code",
   "execution_count": null,
   "metadata": {},
   "outputs": [],
   "source": [
    "2"
   ]
  },
  {
   "cell_type": "markdown",
   "metadata": {},
   "source": [
    "**Question 5:**\n",
    "Write a function name add that takes two parameter a and b, then return the output of a + b (Do not use any other variable! Do not need to run it. Only write the code about how you define it.)"
   ]
  },
  {
   "cell_type": "code",
   "execution_count": null,
   "metadata": {},
   "outputs": [],
   "source": [
    "def add(a, b):\n",
    "    return a + b"
   ]
  }
 ],
 "metadata": {
  "kernelspec": {
   "display_name": "Python 3",
   "language": "python",
   "name": "python3"
  },
  "language_info": {
   "codemirror_mode": {
    "name": "ipython",
    "version": 3
   },
   "file_extension": ".py",
   "mimetype": "text/x-python",
   "name": "python",
   "nbconvert_exporter": "python",
   "pygments_lexer": "ipython3",
   "version": "3.7.7"
  }
 },
 "nbformat": 4,
 "nbformat_minor": 4
}
