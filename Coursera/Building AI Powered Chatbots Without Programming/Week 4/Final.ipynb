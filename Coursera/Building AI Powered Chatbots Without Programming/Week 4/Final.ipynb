{
 "cells": [
  {
   "cell_type": "markdown",
   "metadata": {},
   "source": [
    "**Question 1:**\n",
    "Text and audio are two common ways through which chatbots interact with the user."
   ]
  },
  {
   "cell_type": "raw",
   "metadata": {},
   "source": [
    "True"
   ]
  },
  {
   "cell_type": "markdown",
   "metadata": {},
   "source": [
    "**Question 2:**\n",
    "To be called a chatbot, a bot needs to converse with the user."
   ]
  },
  {
   "cell_type": "raw",
   "metadata": {},
   "source": [
    "True"
   ]
  },
  {
   "cell_type": "markdown",
   "metadata": {},
   "source": [
    "**Question 3:**\n",
    "Chatbots can help cut down the number of inquiries a business' customer care team needs to manually address."
   ]
  },
  {
   "cell_type": "raw",
   "metadata": {},
   "source": [
    "True"
   ]
  },
  {
   "cell_type": "markdown",
   "metadata": {},
   "source": [
    "**Question 4:**\n",
    "Watson Assistant is a chatbot building service hosted on IBM Cloud."
   ]
  },
  {
   "cell_type": "raw",
   "metadata": {},
   "source": [
    "True"
   ]
  },
  {
   "cell_type": "markdown",
   "metadata": {},
   "source": [
    "**Question 5:**\n",
    "Chatbots can only be deployed on WordPress sites."
   ]
  },
  {
   "cell_type": "raw",
   "metadata": {},
   "source": [
    "False"
   ]
  },
  {
   "cell_type": "markdown",
   "metadata": {},
   "source": [
    "**Question 6:**\n",
    "Which of these is a valid intent?"
   ]
  },
  {
   "cell_type": "raw",
   "metadata": {},
   "source": [
    "#buy_product"
   ]
  },
  {
   "cell_type": "markdown",
   "metadata": {},
   "source": [
    "**Question 7:**\n",
    "Which of the following are valid system entities?"
   ]
  },
  {
   "cell_type": "raw",
   "metadata": {},
   "source": [
    "@sys-time\n",
    "\n",
    "@sys-date"
   ]
  },
  {
   "cell_type": "markdown",
   "metadata": {},
   "source": [
    "**Question 8:**\n",
    "The value of an entity detected in the user input is automatically available for the entire duration of the conversation with the user."
   ]
  },
  {
   "cell_type": "raw",
   "metadata": {},
   "source": [
    "False"
   ]
  },
  {
   "cell_type": "markdown",
   "metadata": {},
   "source": [
    "**Question 9:**\n",
    "We can use context variables to store (and later access) information collected from the user."
   ]
  },
  {
   "cell_type": "raw",
   "metadata": {},
   "source": [
    "True"
   ]
  },
  {
   "cell_type": "markdown",
   "metadata": {},
   "source": [
    "**Question 10:**\n",
    "Slots allow us to collect information from the user and store it in context variables."
   ]
  },
  {
   "cell_type": "raw",
   "metadata": {},
   "source": [
    "True"
   ]
  },
  {
   "cell_type": "markdown",
   "metadata": {},
   "source": [
    "**Question 11:**\n",
    "A dialog has the following nodes:<br/>\n",
    "Welcome (welcome condition)<br/>\n",
    "\n",
    "Greetings (#greetings intent condition)\n",
    "\n",
    "Thank you (#thank_you intent condition)\n",
    "\n",
    "Goodbyes (#goodbyes intent condition)\n",
    "\n",
    "Anything else (anything_else condition).\n",
    "\n",
    "Which of the following statements apply?"
   ]
  },
  {
   "cell_type": "raw",
   "metadata": {},
   "source": [
    "In this case, rearranging the order to be Welcome, Thank You, Greetings, Goodbyes and Anything else would not cause problems.\n",
    "\n",
    "If no known intent is detected in the user input, the Anything else node will be executed.\n",
    "\n",
    "Welcome will contain the chatbot prompt and be executed at the beginning of the conversation."
   ]
  },
  {
   "cell_type": "markdown",
   "metadata": {},
   "source": [
    "**Question 12:**\n",
    "The evaluation of peer nodes proceeds top to bottom until a node with a matching condition is found. Child nodes are only considered for execution after their parent's condition is met (or if a jump is involved.)"
   ]
  },
  {
   "cell_type": "raw",
   "metadata": {},
   "source": [
    "True"
   ]
  },
  {
   "cell_type": "markdown",
   "metadata": {},
   "source": [
    "**Question 13:**\n",
    "Digressions allow users to divert the conversation away from a slot while it's asking its question."
   ]
  },
  {
   "cell_type": "raw",
   "metadata": {},
   "source": [
    "True"
   ]
  },
  {
   "cell_type": "markdown",
   "metadata": {},
   "source": [
    "**Question 14:**\n",
    "Which of the following contains the entire user input?"
   ]
  },
  {
   "cell_type": "raw",
   "metadata": {},
   "source": [
    "input.text"
   ]
  },
  {
   "cell_type": "markdown",
   "metadata": {},
   "source": [
    "**Question 15:**\n",
    "A restaurant chatbot needs to collect the following information from the user: reservation name, party size, date, and time in order to book a reservation. Which of the following approaches works best?"
   ]
  },
  {
   "cell_type": "raw",
   "metadata": {},
   "source": [
    "Have a node enabled with multiple slots, each asking for the relevant information. System entities should be enabled."
   ]
  }
 ],
 "metadata": {
  "kernelspec": {
   "display_name": "Python 3",
   "language": "python",
   "name": "python3"
  },
  "language_info": {
   "codemirror_mode": {
    "name": "ipython",
    "version": 3
   },
   "file_extension": ".py",
   "mimetype": "text/x-python",
   "name": "python",
   "nbconvert_exporter": "python",
   "pygments_lexer": "ipython3",
   "version": "3.7.7"
  }
 },
 "nbformat": 4,
 "nbformat_minor": 4
}
