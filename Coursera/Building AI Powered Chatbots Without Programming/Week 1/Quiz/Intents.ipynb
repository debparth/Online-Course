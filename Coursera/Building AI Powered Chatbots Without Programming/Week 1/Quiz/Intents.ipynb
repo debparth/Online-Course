{
 "cells": [
  {
   "cell_type": "markdown",
   "metadata": {},
   "source": [
    "**Question 1:**\n",
    "Watson Assistant (formerly Conversation) can only be used to create chatbots in English."
   ]
  },
  {
   "cell_type": "raw",
   "metadata": {},
   "source": [
    "False"
   ]
  },
  {
   "cell_type": "markdown",
   "metadata": {},
   "source": [
    "**Question 2:**\n",
    "Select all the statements that are true."
   ]
  },
  {
   "cell_type": "raw",
   "metadata": {},
   "source": [
    "An intent is a purpose or goal expressed by the user's input\n",
    "\n",
    "Intents start with an # symbol\n",
    "\n",
    "We train Watson by providing examples for our intents\n",
    "\n",
    "We should provide Watson with at least 5 examples per intent"
   ]
  },
  {
   "cell_type": "markdown",
   "metadata": {},
   "source": [
    "**Question 3:**\n",
    "The three main components of a Dialog Skill are Intents, Entities, and Dialog."
   ]
  },
  {
   "cell_type": "raw",
   "metadata": {},
   "source": [
    "True"
   ]
  },
  {
   "cell_type": "markdown",
   "metadata": {},
   "source": [
    "**Question 4:**\n",
    "If Watson detects the wrong intent, we can train Watson by selecting a different intent from the Try it out panel."
   ]
  },
  {
   "cell_type": "raw",
   "metadata": {},
   "source": [
    "True"
   ]
  },
  {
   "cell_type": "markdown",
   "metadata": {},
   "source": [
    "**Question 5:**\n",
    "The Content Catalog offers collections of pre-made intents for various industries."
   ]
  },
  {
   "cell_type": "raw",
   "metadata": {},
   "source": [
    "True"
   ]
  }
 ],
 "metadata": {
  "kernelspec": {
   "display_name": "Python 3",
   "language": "python",
   "name": "python3"
  },
  "language_info": {
   "codemirror_mode": {
    "name": "ipython",
    "version": 3
   },
   "file_extension": ".py",
   "mimetype": "text/x-python",
   "name": "python",
   "nbconvert_exporter": "python",
   "pygments_lexer": "ipython3",
   "version": "3.7.7"
  }
 },
 "nbformat": 4,
 "nbformat_minor": 4
}
