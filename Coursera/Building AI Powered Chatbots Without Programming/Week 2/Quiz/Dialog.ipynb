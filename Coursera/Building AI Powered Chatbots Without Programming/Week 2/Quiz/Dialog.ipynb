{
 "cells": [
  {
   "cell_type": "markdown",
   "metadata": {},
   "source": [
    "**Question 1:**\n",
    "Multiple conditional responses allow us to attach conditions to responses within a node."
   ]
  },
  {
   "cell_type": "raw",
   "metadata": {},
   "source": [
    "True"
   ]
  },
  {
   "cell_type": "markdown",
   "metadata": {},
   "source": [
    "**Question 2:**\n",
    "The order of nodes in the dialog can affect how the chatbot works."
   ]
  },
  {
   "cell_type": "raw",
   "metadata": {},
   "source": [
    "True"
   ]
  },
  {
   "cell_type": "markdown",
   "metadata": {},
   "source": [
    "**Question 3:**\n",
    "Node A has @occasion as its condition. Node B, placed just below node A, has @occasion:Graduation as its condition. Which of the following statements is true?"
   ]
  },
  {
   "cell_type": "raw",
   "metadata": {},
   "source": [
    "Node B is overshadowed and will not be executed (unless we explictily jump to it)."
   ]
  },
  {
   "cell_type": "markdown",
   "metadata": {},
   "source": [
    "**Question 4:**\n",
    "In general, child nodes are considered if the parent node condition is met."
   ]
  },
  {
   "cell_type": "raw",
   "metadata": {},
   "source": [
    "True"
   ]
  },
  {
   "cell_type": "markdown",
   "metadata": {},
   "source": [
    "**Question 5:**\n",
    "Select all the statements that are true."
   ]
  },
  {
   "cell_type": "raw",
   "metadata": {},
   "source": [
    "When designing a chatbot, we should consider tone and personality.\n",
    "\n",
    "The tone and personality of our chatbot can affect how well it is perceived by the user.\n",
    "\n",
    "We should avoid \"yes\" and \"no\" answers when possible."
   ]
  }
 ],
 "metadata": {
  "kernelspec": {
   "display_name": "Python 3",
   "language": "python",
   "name": "python3"
  },
  "language_info": {
   "codemirror_mode": {
    "name": "ipython",
    "version": 3
   },
   "file_extension": ".py",
   "mimetype": "text/x-python",
   "name": "python",
   "nbconvert_exporter": "python",
   "pygments_lexer": "ipython3",
   "version": "3.7.7"
  }
 },
 "nbformat": 4,
 "nbformat_minor": 4
}
