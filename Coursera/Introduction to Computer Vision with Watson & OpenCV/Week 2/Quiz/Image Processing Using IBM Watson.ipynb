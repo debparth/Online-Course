{
 "cells": [
  {
   "cell_type": "markdown",
   "metadata": {},
   "source": [
    "**Question 1:**\n",
    "Jupyter notebook is a web-based interactive environment that runs Python code. The code is written in special cells called \"code cells\". What is the keyboard shortcut to run the code in the \"code cells\"?"
   ]
  },
  {
   "cell_type": "raw",
   "metadata": {},
   "source": [
    "\"shift + enter\""
   ]
  },
  {
   "cell_type": "markdown",
   "metadata": {},
   "source": [
    "**Question 2:**\n",
    "IBM Watson is the python package that allows you access to the Watson Visual Recognition API, and OpenCV is the python package for image processing. Which of the options below will install both the IBM Watson and OpenCV packages in your Jupyter notebook?"
   ]
  },
  {
   "cell_type": "raw",
   "metadata": {},
   "source": [
    "! pip install --upgrade ibm-watson opencv-python"
   ]
  },
  {
   "cell_type": "markdown",
   "metadata": {},
   "source": [
    "**Question 3:**\n",
    "In order to make calls to the Watson Visual Recognition API, we first need to create a Watson Visual Recognition instance. Which of the following code snippets below will create a Watson Visual Recognition instance?"
   ]
  },
  {
   "cell_type": "raw",
   "metadata": {},
   "source": [
    "from ibm_watson import VisualRecognitionV3\n",
    "from ibm_cloud_sdk_core.authenticators import IAMAuthenticator\n",
    "authenticator = IAMAuthenticator(my_apikey)\n",
    "\n",
    "visrec = VisualRecognitionV3('2018-03-19', \n",
    "                             authenticator=authenticator)"
   ]
  },
  {
   "cell_type": "markdown",
   "metadata": {},
   "source": [
    "**Question 4:**\n",
    "The classify method from the Watson Visual Recognition API allows us to classify images. Which of the following code snippets allows us to access the classify method from a Watson Visual Recognition instance named visualrecognition."
   ]
  },
  {
   "cell_type": "raw",
   "metadata": {},
   "source": [
    "classes = visualrecognition.classify(url=image_url,\n",
    "                          threshold='0.6',\n",
    "                          classifier_ids='default').get_result()"
   ]
  },
  {
   "cell_type": "markdown",
   "metadata": {},
   "source": [
    "**Question 5:**\n",
    "Pandas is a library written for the Python programming language. It is mainly used for data manipulation and analysis. It offers data structures and operations that allows us to present data in a human readable form. In the Lab Custom Classifiers with IBM Watson we used pandas to transform the output of our classifier from JSON (JavaScript Object Notation) into a human readable form. In particular we used the json_normalize method from Pandas to transform the output from JSON format into a table. Which of the following options below can be used for importing the method json_normalize"
   ]
  },
  {
   "cell_type": "raw",
   "metadata": {},
   "source": [
    "from pandas.io.json import json_normalize"
   ]
  },
  {
   "cell_type": "markdown",
   "metadata": {},
   "source": [
    "**Question 6:**\n",
    "IBM Watson Visual Recognition API allows you to create, train and evaluate your own custom Visual Recognition model in the programming language of your choice. Which of the languages below does Watson Visual Recognition API support?"
   ]
  },
  {
   "cell_type": "raw",
   "metadata": {},
   "source": [
    "Python, Java, Node, Swift"
   ]
  },
  {
   "cell_type": "markdown",
   "metadata": {},
   "source": [
    "**Question 7:**\n",
    "In the Lab Classifying Images using Watson VR in Python we grab an image from an URL. What does URL stands for?"
   ]
  },
  {
   "cell_type": "raw",
   "metadata": {},
   "source": [
    "Uniform Resource Locator"
   ]
  },
  {
   "cell_type": "markdown",
   "metadata": {},
   "source": [
    "**Question 8:**\n",
    "What are the types of pre-trained classifiers that are provided by the Watson Visual Recognition API?"
   ]
  },
  {
   "cell_type": "raw",
   "metadata": {},
   "source": [
    "General Classifier (also called Default Classifier), Food Classifier"
   ]
  },
  {
   "cell_type": "markdown",
   "metadata": {},
   "source": [
    "**Question 9:**\n",
    "Which of the following are appropriate use cases for custom classifiers that are created in Watson Visual Recognition?"
   ]
  },
  {
   "cell_type": "raw",
   "metadata": {},
   "source": [
    "When visual inspection by humans is time consuming, difficult, unscalable or expensive.\n",
    "\n",
    "When the process of training humans to become experts at recognizing and detecting various kinds of objects becomes difficult and time-consuming"
   ]
  },
  {
   "cell_type": "markdown",
   "metadata": {},
   "source": [
    "**Question 10:**\n",
    "In the Lab Classifying Images using Watson VR in Python, which of the following methods is used for identifying objects in an image?"
   ]
  },
  {
   "cell_type": "raw",
   "metadata": {},
   "source": [
    "classify method"
   ]
  }
 ],
 "metadata": {
  "kernelspec": {
   "display_name": "Python 3",
   "language": "python",
   "name": "python3"
  },
  "language_info": {
   "codemirror_mode": {
    "name": "ipython",
    "version": 3
   },
   "file_extension": ".py",
   "mimetype": "text/x-python",
   "name": "python",
   "nbconvert_exporter": "python",
   "pygments_lexer": "ipython3",
   "version": "3.7.7"
  }
 },
 "nbformat": 4,
 "nbformat_minor": 4
}
