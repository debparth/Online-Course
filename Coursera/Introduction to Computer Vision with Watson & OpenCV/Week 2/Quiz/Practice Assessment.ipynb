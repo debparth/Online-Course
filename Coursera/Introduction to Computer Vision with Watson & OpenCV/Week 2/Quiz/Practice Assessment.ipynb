{
 "cells": [
  {
   "cell_type": "markdown",
   "metadata": {},
   "source": [
    "**Question 1:**\n",
    "What format is the result is returned in when we use the Watson Visual Recognition API to perform image classification?"
   ]
  },
  {
   "cell_type": "raw",
   "metadata": {},
   "source": [
    "JSON"
   ]
  },
  {
   "cell_type": "markdown",
   "metadata": {},
   "source": [
    "**Question 2:**\n",
    "The result that is returned by the Watson VR API is not completely human friendly to read. Which Python library can be used to improve the presentation of the output?"
   ]
  },
  {
   "cell_type": "raw",
   "metadata": {},
   "source": [
    "Pandas"
   ]
  },
  {
   "cell_type": "markdown",
   "metadata": {},
   "source": [
    "**Question 3:**\n",
    "In the Lab Training Custom Classifiers with IBM Watson, which method is used to train a classifier that classifies the different types of dog breeds?"
   ]
  },
  {
   "cell_type": "raw",
   "metadata": {},
   "source": [
    "create_classifier"
   ]
  },
  {
   "cell_type": "markdown",
   "metadata": {},
   "source": [
    "**Question 4:**\n",
    "In the Lab Training Custom Classifier with IBM Watson which method is used to delete an existing custom classifier?"
   ]
  },
  {
   "cell_type": "raw",
   "metadata": {},
   "source": [
    "delete_classifier"
   ]
  }
 ],
 "metadata": {
  "kernelspec": {
   "display_name": "Python 3",
   "language": "python",
   "name": "python3"
  },
  "language_info": {
   "codemirror_mode": {
    "name": "ipython",
    "version": 3
   },
   "file_extension": ".py",
   "mimetype": "text/x-python",
   "name": "python",
   "nbconvert_exporter": "python",
   "pygments_lexer": "ipython3",
   "version": "3.7.7"
  }
 },
 "nbformat": 4,
 "nbformat_minor": 4
}
