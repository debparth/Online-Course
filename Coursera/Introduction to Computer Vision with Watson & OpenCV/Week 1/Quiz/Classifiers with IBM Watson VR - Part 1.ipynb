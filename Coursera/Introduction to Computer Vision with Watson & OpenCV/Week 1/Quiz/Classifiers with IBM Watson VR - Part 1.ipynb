{
 "cells": [
  {
   "cell_type": "markdown",
   "metadata": {},
   "source": [
    "**Question 1:**\n",
    "Your friend created a family-friend app where their users upload images to share with other members of the app community. However, there are some rogue individuals uploading inappropriate, pornographic images, in an attempt to disrupt the community. Although the perpetrator get flagged, it is time consuming to confirm and remove those images. Based on what you've learned so far, what would you suggest that your friend should do?"
   ]
  },
  {
   "cell_type": "raw",
   "metadata": {},
   "source": [
    "Use the Explicit Classifier from IBM Watson Visual Recognition to automatically check and remove every offending image as they get flagged."
   ]
  },
  {
   "cell_type": "markdown",
   "metadata": {},
   "source": [
    "**Question 2:**\n",
    "I upload two images to the General Classifier. For one image, image A, the confidence score is 0.99 for \"dog\". In the other, the confidence score is 0.66 for \"dog\" with the same classifier. What can I conclude?"
   ]
  },
  {
   "cell_type": "raw",
   "metadata": {},
   "source": [
    "The classifier is more confident that there is a dog in image A than in image B."
   ]
  },
  {
   "cell_type": "markdown",
   "metadata": {},
   "source": [
    "**Question 3:**\n",
    "In the video lecture, why does the first image of fishing lures fool IBM Watson into thinking that there are fish, but the second image of fishing lures get correctly classified as fishing lures?"
   ]
  },
  {
   "cell_type": "raw",
   "metadata": {},
   "source": [
    "Because of how IBM Watson was trained, it likely did not generalize well enough from training examples of fishing lures to the first image"
   ]
  }
 ],
 "metadata": {
  "kernelspec": {
   "display_name": "Python 3",
   "language": "python",
   "name": "python3"
  },
  "language_info": {
   "codemirror_mode": {
    "name": "ipython",
    "version": 3
   },
   "file_extension": ".py",
   "mimetype": "text/x-python",
   "name": "python",
   "nbconvert_exporter": "python",
   "pygments_lexer": "ipython3",
   "version": "3.7.7"
  }
 },
 "nbformat": 4,
 "nbformat_minor": 4
}
