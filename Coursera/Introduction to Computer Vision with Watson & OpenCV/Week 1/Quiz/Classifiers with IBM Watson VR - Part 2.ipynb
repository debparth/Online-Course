{
 "cells": [
  {
   "cell_type": "markdown",
   "metadata": {},
   "source": [
    "**Question 1:**\n",
    "An apple-sorting facility wants to use computer vision to sort between green apples and red apples. In the future, they want to also sort between other kinds of produce like oranges. Which of the following suggestions would you recommend as a possible solution using IBM Watson Visual Recognition?"
   ]
  },
  {
   "cell_type": "raw",
   "metadata": {},
   "source": [
    "Create a custom classifier with \"red apples\" and \"green apples\" as classe, with positive examples for each classes."
   ]
  },
  {
   "cell_type": "markdown",
   "metadata": {},
   "source": [
    "**Question 2:**\n",
    "An insurance company collects an overwhelming amount of claims for water damage in the ceilings of residential homes after heavy rain. However, a percentage of the images do not actually contain any water damage and come from fraudulent claims. Teaching and relying on human experts to correctly identify water damage is becoming too time-consuming and costly, and they want to look at using computer vision to automate the process of identifying images that contain or do not contain water damage. What of the following proposals are good proposals?"
   ]
  },
  {
   "cell_type": "raw",
   "metadata": {},
   "source": [
    "The insurance company should first gather images (or even subsections of images) that their experts identify as having water damage and not having water damage. They can then build a custom classifier to automatically classify the images as having water damage or no water damage. For images that the classifier does poorly (i.e. has a low confidence for either water damage or no water damage), they can be given to human experts. Alternatively, there could be specific types of water damage that computer vision does particularly well in without extensive training."
   ]
  },
  {
   "cell_type": "markdown",
   "metadata": {},
   "source": [
    "**Question 3:**\n",
    "You notice that your local games store has a lot of people buying and selling trading cards or stamps, but people have difficulty keeping track of all of their goods. You want to develop a way for people to use their smart phone cameras to quickly create a list of all of their trading cards using computer vision. How would you create the image classifier to prototype a full solution for the card fans? Choose the best option from the following:"
   ]
  },
  {
   "cell_type": "raw",
   "metadata": {},
   "source": [
    "To start, you would choose only ten (or some other small but manageable number of) different cards and take images of each card from slightly different angles and save the images in a separate folder for each card name. Then you would zip the folders up to generate ten different zip files. Next, you would use IBM Watson Studio to create a new custom classifier, and create ten new labels, one for each of the cards, and upload their respective zip files. After training the classifier, you could then test the classifier with new images to see if the classifier works well or if more training images are needed. If the prototype works and you've received feedback from card fans, you would then continue to scale it out to all the other unique cards (which could be hundreds or thousands) with the help of programming, which you will learn in the next module, adding each as its own label with their own positive examples. If needed, you would also add negative examples from irrelevant cards (e.g. playing cards or cards from an entirely different game)."
   ]
  },
  {
   "cell_type": "markdown",
   "metadata": {},
   "source": [
    "**Question 4:**\n",
    "A custom classifier on IBM Watson Visual Recognition labels \"cake\" with a confidence score of \"1.0\" for image A, and \"cake\" with a confidence score of \"0.5\" for another image B. Which of the following is definitely True? Select only one option."
   ]
  },
  {
   "cell_type": "raw",
   "metadata": {},
   "source": [
    "None of the above statements are True."
   ]
  }
 ],
 "metadata": {
  "kernelspec": {
   "display_name": "Python 3",
   "language": "python",
   "name": "python3"
  },
  "language_info": {
   "codemirror_mode": {
    "name": "ipython",
    "version": 3
   },
   "file_extension": ".py",
   "mimetype": "text/x-python",
   "name": "python",
   "nbconvert_exporter": "python",
   "pygments_lexer": "ipython3",
   "version": "3.7.7"
  }
 },
 "nbformat": 4,
 "nbformat_minor": 4
}
