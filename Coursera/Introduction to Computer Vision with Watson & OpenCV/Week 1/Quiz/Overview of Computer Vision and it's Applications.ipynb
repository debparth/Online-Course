{
 "cells": [
  {
   "cell_type": "markdown",
   "metadata": {},
   "source": [
    "**Question 1:**\n",
    "True or False: In the field of image translation, researchers in computer vision are actively researching about translating objects and subjects in an image from one spot to another in the same image."
   ]
  },
  {
   "cell_type": "raw",
   "metadata": {},
   "source": [
    "False"
   ]
  },
  {
   "cell_type": "markdown",
   "metadata": {},
   "source": [
    "**Question 2:**\n",
    "In the video lecture, what methodology is presented to detect rust on iron bridges?"
   ]
  },
  {
   "cell_type": "raw",
   "metadata": {},
   "source": [
    "A person on the ground takes multiple high resolution images from multiple places. A computer vision expert splits these images into smaller groups. Each of the smaller images is passed to a custom classifier that can detect the presence of the metal structure, versus other structure versus non-metal objects. After this, the images are passed through another custom classifier that is trained to detect the presence of rust in images."
   ]
  },
  {
   "cell_type": "markdown",
   "metadata": {},
   "source": [
    "**Question 3:**\n",
    "The popularity of self-driving cars has been raising at an exponential rate over the past decade. Based upon what you have learned, which of the following computer vision technique(s) is useful for self-driving cars?"
   ]
  },
  {
   "cell_type": "raw",
   "metadata": {},
   "source": [
    "Object Detection\n",
    "\n",
    "Image Classification"
   ]
  }
 ],
 "metadata": {
  "kernelspec": {
   "display_name": "Python 3",
   "language": "python",
   "name": "python3"
  },
  "language_info": {
   "codemirror_mode": {
    "name": "ipython",
    "version": 3
   },
   "file_extension": ".py",
   "mimetype": "text/x-python",
   "name": "python",
   "nbconvert_exporter": "python",
   "pygments_lexer": "ipython3",
   "version": "3.7.7"
  }
 },
 "nbformat": 4,
 "nbformat_minor": 4
}
