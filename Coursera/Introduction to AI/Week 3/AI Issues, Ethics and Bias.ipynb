{
 "cells": [
  {
   "cell_type": "markdown",
   "metadata": {},
   "source": [
    "**Question 1:**\n",
    "Ethics in artificial intelligence is:"
   ]
  },
  {
   "cell_type": "raw",
   "metadata": {},
   "source": [
    "Something that we need to apply today."
   ]
  },
  {
   "cell_type": "markdown",
   "metadata": {},
   "source": [
    "**Question 2:**\n",
    "One approach that helps developers avoid unintentionally creating bias in AI systems is:"
   ]
  },
  {
   "cell_type": "raw",
   "metadata": {},
   "source": [
    "Using a wide variety of appropriately diverse data for training."
   ]
  },
  {
   "cell_type": "markdown",
   "metadata": {},
   "source": [
    "**Question 3:**\n",
    "Which of the following statements about IBM’s views on AI are correct?"
   ]
  },
  {
   "cell_type": "raw",
   "metadata": {},
   "source": [
    "Data and insights belong to the people and businesses who created them. Organizations that collect, store, manage, or process data have an obligation to handle it responsibly.\n",
    "\n",
    "Knowing how an AI system arrives at an outcome is key to trust. To improve transparency, we should define how we build, deploy, and manage AI systems through scientific research.\n",
    "\n",
    "Unbiased models and a spirit of diversity and inclusion are necessary to create fair AI systems, which can mitigate, rather than magnify, our existing prejudices.\n",
    "\n",
    "AI can be applied to solve some of humanity’s most pervasive problems and create opportunity for all."
   ]
  },
  {
   "cell_type": "markdown",
   "metadata": {},
   "source": [
    "**Question 4:**\n",
    "Which of the following are examples of bias in an AI system?"
   ]
  },
  {
   "cell_type": "raw",
   "metadata": {},
   "source": [
    "Image recognition systems associating images of kitchens, shops, and laundry with women rather than men."
   ]
  },
  {
   "cell_type": "markdown",
   "metadata": {},
   "source": [
    "**Question 5:**\n",
    "There is concern that some jobs will be replaced by AI systems. Which of the following characteristics make a job a good candidate for replacement?"
   ]
  },
  {
   "cell_type": "raw",
   "metadata": {},
   "source": [
    "Rules-based decision-making."
   ]
  },
  {
   "cell_type": "markdown",
   "metadata": {},
   "source": [
    "**Question 6:**\n",
    "Ethical concerns with AI systems are:"
   ]
  },
  {
   "cell_type": "raw",
   "metadata": {},
   "source": [
    "Something that should be the concern of every AI developer, so they can be mitigated for as AI systems are developed."
   ]
  },
  {
   "cell_type": "markdown",
   "metadata": {},
   "source": [
    "**Question 7:**\n",
    "What are some of the ethical concerns around artificial intelligence?\n",
    "\n",
    "A. Racial, gender or other types of bias.\n",
    "\n",
    "B. Loss of jobs due to AI replacing workers performing repetitive tasks.\n",
    "\n",
    "C. Concern about the trustworthiness of decision-making supported by AI systems.\n",
    "\n",
    "D. Privacy, for example, as human faces are photographed and recognized in public spaces."
   ]
  },
  {
   "cell_type": "raw",
   "metadata": {},
   "source": [
    "All of the options are correct"
   ]
  },
  {
   "cell_type": "markdown",
   "metadata": {},
   "source": [
    "**Question 8:**\n",
    "Which of the following NOT a way AI is being used to benefit humanity?"
   ]
  },
  {
   "cell_type": "raw",
   "metadata": {},
   "source": [
    "Crime: to identify criminals before they commit a crime."
   ]
  },
  {
   "cell_type": "markdown",
   "metadata": {},
   "source": [
    "**Question 9:**\n",
    "How many new opportunities and job roles does the World Economic Forum expect that AI will create in the next few years?"
   ]
  },
  {
   "cell_type": "raw",
   "metadata": {},
   "source": [
    "133 million"
   ]
  },
  {
   "cell_type": "markdown",
   "metadata": {},
   "source": [
    "**Question 10:**\n",
    "What is a significant way in which developers of AI systems can guard against introducing bias?"
   ]
  },
  {
   "cell_type": "raw",
   "metadata": {},
   "source": [
    "Providing effective training data and performing regular tests and audits."
   ]
  }
 ],
 "metadata": {
  "kernelspec": {
   "display_name": "Python 3",
   "language": "python",
   "name": "python3"
  },
  "language_info": {
   "codemirror_mode": {
    "name": "ipython",
    "version": 3
   },
   "file_extension": ".py",
   "mimetype": "text/x-python",
   "name": "python",
   "nbconvert_exporter": "python",
   "pygments_lexer": "ipython3",
   "version": "3.7.7"
  }
 },
 "nbformat": 4,
 "nbformat_minor": 4
}
