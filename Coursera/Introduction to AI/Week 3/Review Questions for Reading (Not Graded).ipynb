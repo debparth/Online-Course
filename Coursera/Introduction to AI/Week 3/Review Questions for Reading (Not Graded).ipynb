{
 "cells": [
  {
   "cell_type": "markdown",
   "metadata": {},
   "source": [
    "**Question 1:**\n",
    "How is AI being used to control infectious disease?"
   ]
  },
  {
   "cell_type": "raw",
   "metadata": {},
   "source": [
    "AIME uses more than 270 variables to predict the next outbreak of Dengue fever."
   ]
  },
  {
   "cell_type": "markdown",
   "metadata": {},
   "source": [
    "**Question 2:**\n",
    "The proliferation of AI will create new ways of working and new jobs for which people must prepare."
   ]
  },
  {
   "cell_type": "raw",
   "metadata": {},
   "source": [
    "True"
   ]
  },
  {
   "cell_type": "markdown",
   "metadata": {},
   "source": [
    "**Question 3:**\n",
    "What are the three principles that IBM follows to create ethical AI?"
   ]
  },
  {
   "cell_type": "raw",
   "metadata": {},
   "source": [
    "Transperancy, Skills, Purpose"
   ]
  }
 ],
 "metadata": {
  "kernelspec": {
   "display_name": "Python 3",
   "language": "python",
   "name": "python3"
  },
  "language_info": {
   "codemirror_mode": {
    "name": "ipython",
    "version": 3
   },
   "file_extension": ".py",
   "mimetype": "text/x-python",
   "name": "python",
   "nbconvert_exporter": "python",
   "pygments_lexer": "ipython3",
   "version": "3.7.7"
  }
 },
 "nbformat": 4,
 "nbformat_minor": 4
}
