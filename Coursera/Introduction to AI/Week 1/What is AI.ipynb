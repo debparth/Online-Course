{
 "cells": [
  {
   "cell_type": "markdown",
   "metadata": {},
   "source": [
    "**Question 1:**\n",
    "Which of the following is NOT a good way to define AI?"
   ]
  },
  {
   "cell_type": "raw",
   "metadata": {},
   "source": [
    "AI is all about machines replacing human intelligence."
   ]
  },
  {
   "cell_type": "markdown",
   "metadata": {},
   "source": [
    "**Question 2:**\n",
    "Which of the following is an attribute of Strong or Generalized AI?"
   ]
  },
  {
   "cell_type": "raw",
   "metadata": {},
   "source": [
    "Perform independent tasks"
   ]
  },
  {
   "cell_type": "markdown",
   "metadata": {},
   "source": [
    "**Question 3:**\n",
    "AI is the fusion of many fields of study. Which of these fields, along with Computer Science, plays a role in the application of AI?"
   ]
  },
  {
   "cell_type": "raw",
   "metadata": {},
   "source": [
    "All responses are correct"
   ]
  },
  {
   "cell_type": "markdown",
   "metadata": {},
   "source": [
    "**Question 4:**\n",
    "Which of these is NOT a current application of AI?"
   ]
  },
  {
   "cell_type": "raw",
   "metadata": {},
   "source": [
    "Making precise patient diagnosis and prescribing independent treatment"
   ]
  },
  {
   "cell_type": "markdown",
   "metadata": {},
   "source": [
    "**Question 5:**\n",
    "Natural Language AI algorithms that learn by example are the reason we can talk to machines and they can talk back to us."
   ]
  },
  {
   "cell_type": "raw",
   "metadata": {},
   "source": [
    "True"
   ]
  },
  {
   "cell_type": "markdown",
   "metadata": {},
   "source": [
    "**Question 6:**\n",
    "Advances in the field of Computer Vision make which of the following possible?"
   ]
  },
  {
   "cell_type": "raw",
   "metadata": {},
   "source": [
    "Detecting cancerous moles in skin images"
   ]
  },
  {
   "cell_type": "markdown",
   "metadata": {},
   "source": [
    "**Question 7:**\n",
    "Which of these is currently NOT an application of Collaborative Robots or Cobots?"
   ]
  },
  {
   "cell_type": "raw",
   "metadata": {},
   "source": [
    "Personal use in the home such as doing the laundry and cooking for example"
   ]
  },
  {
   "cell_type": "markdown",
   "metadata": {},
   "source": [
    "**Question 8:**\n",
    "Which of the following aspects involved in converting the stethoscope into a digital device to support patient diagnoses involves the use of AI?"
   ]
  },
  {
   "cell_type": "raw",
   "metadata": {},
   "source": [
    "An app on the mobile device that applies learnings from previous diagnosis data to assist the physicians in their current diagnoses"
   ]
  },
  {
   "cell_type": "markdown",
   "metadata": {},
   "source": [
    "**Question 9:**\n",
    "Which of the following are applications of Artificial Intelligence in action?\n",
    "\n",
    "A. IBM Watson utilizing its information retrieval capabilities to provide technical information to oil and gas company workers.\n",
    "\n",
    "B. Watson analyzing Grammy nominated song lyrics over a 60-year period and categorizing them based on their emotions.\n",
    "\n",
    "C. Assisting patients with neurological damage by detecting patterns in massive movement related datasets and using robots to trigger specific movements in the human body to create new neural pathways in the brain.\n",
    "\n",
    "D. Law enforcement authorities using facial recognition algorithms to identify suspects in multiple streams of video footage"
   ]
  },
  {
   "cell_type": "raw",
   "metadata": {},
   "source": [
    "All options are correct"
   ]
  }
 ],
 "metadata": {
  "kernelspec": {
   "display_name": "Python 3",
   "language": "python",
   "name": "python3"
  },
  "language_info": {
   "codemirror_mode": {
    "name": "ipython",
    "version": 3
   },
   "file_extension": ".py",
   "mimetype": "text/x-python",
   "name": "python",
   "nbconvert_exporter": "python",
   "pygments_lexer": "ipython3",
   "version": "3.7.7"
  }
 },
 "nbformat": 4,
 "nbformat_minor": 4
}
