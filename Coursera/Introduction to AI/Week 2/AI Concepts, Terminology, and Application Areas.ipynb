{
 "cells": [
  {
   "cell_type": "markdown",
   "metadata": {},
   "source": [
    "**Question 1:**\n",
    "Which of these statements is true?"
   ]
  },
  {
   "cell_type": "raw",
   "metadata": {},
   "source": [
    "Cognitive systems can learn from their successes and failures"
   ]
  },
  {
   "cell_type": "markdown",
   "metadata": {},
   "source": [
    "**Question 2:**\n",
    "Which of these statements is true?"
   ]
  },
  {
   "cell_type": "raw",
   "metadata": {},
   "source": [
    "Deep Learning is a specialized subset of Machine Learning that uses layered neural networks to simulate human decision-making"
   ]
  },
  {
   "cell_type": "markdown",
   "metadata": {},
   "source": [
    "**Question 3:**\n",
    "Which of the following is NOT an attribute of Machine Learning?"
   ]
  },
  {
   "cell_type": "raw",
   "metadata": {},
   "source": [
    "Takes data and rules as input and uses these inputs to develop an algorithm that will give us an answer"
   ]
  },
  {
   "cell_type": "markdown",
   "metadata": {},
   "source": [
    "**Question 4:**\n",
    "Which of the following is NOT an attribute of Unsupervised Learning?"
   ]
  },
  {
   "cell_type": "raw",
   "metadata": {},
   "source": [
    "Takes data and rules as input and uses these inputs to develop an algorithm that will give us an answer"
   ]
  },
  {
   "cell_type": "markdown",
   "metadata": {},
   "source": [
    "**Question 5:**\n",
    "Which of the following is an attribute of Supervised Learning?"
   ]
  },
  {
   "cell_type": "raw",
   "metadata": {},
   "source": [
    "Relies on providing the machine learning algorithm human-labeled data - the more samples you provide, the more precise the algorithm becomes in classifying new data"
   ]
  },
  {
   "cell_type": "markdown",
   "metadata": {},
   "source": [
    "**Question 6:**\n",
    "Which of the following statements about datasets used in Machine Learning is NOT true?"
   ]
  },
  {
   "cell_type": "raw",
   "metadata": {},
   "source": [
    "Training data is used to fine-tune algorithm’s parameters and evaluate how good the model is"
   ]
  },
  {
   "cell_type": "markdown",
   "metadata": {},
   "source": [
    "**Question 7:**\n",
    "When creating deep learning algorithms, developers configure the number of layers and the type of functions that connect the outputs of each layer to the inputs of the next."
   ]
  },
  {
   "cell_type": "raw",
   "metadata": {},
   "source": [
    "True"
   ]
  },
  {
   "cell_type": "markdown",
   "metadata": {},
   "source": [
    "**Question 8:**\n",
    "Which of the following fields of application for AI can be used at the airport to flag weapons within luggage passing through the X-ray scanner?"
   ]
  },
  {
   "cell_type": "raw",
   "metadata": {},
   "source": [
    "Computer Vision"
   ]
  },
  {
   "cell_type": "markdown",
   "metadata": {},
   "source": [
    "**Question 9:**\n",
    "Which of these activities is not required in order for a neural network to synthesize human voice?"
   ]
  },
  {
   "cell_type": "raw",
   "metadata": {},
   "source": [
    "Deconstruct sentences to decipher the context of use"
   ]
  },
  {
   "cell_type": "markdown",
   "metadata": {},
   "source": [
    "**Question 10:**\n",
    "Which one of these ways is NOT how AI learns?"
   ]
  },
  {
   "cell_type": "raw",
   "metadata": {},
   "source": [
    "Proactive Learning"
   ]
  }
 ],
 "metadata": {
  "kernelspec": {
   "display_name": "Python 3",
   "language": "python",
   "name": "python3"
  },
  "language_info": {
   "codemirror_mode": {
    "name": "ipython",
    "version": 3
   },
   "file_extension": ".py",
   "mimetype": "text/x-python",
   "name": "python",
   "nbconvert_exporter": "python",
   "pygments_lexer": "ipython3",
   "version": "3.7.7"
  }
 },
 "nbformat": 4,
 "nbformat_minor": 4
}
