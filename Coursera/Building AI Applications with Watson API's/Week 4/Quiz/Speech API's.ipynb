{
 "cells": [
  {
   "cell_type": "markdown",
   "metadata": {},
   "source": [
    "**Question 1:**\n",
    "Which of the following companies uses Speech Recognition technology acquired from IBM in the past?"
   ]
  },
  {
   "cell_type": "raw",
   "metadata": {},
   "source": [
    "Nuance"
   ]
  },
  {
   "cell_type": "markdown",
   "metadata": {},
   "source": [
    "**Question 2:**\n",
    "Which of the following services enables SMS- and Voice-based communication via REST API?"
   ]
  },
  {
   "cell_type": "raw",
   "metadata": {},
   "source": [
    "Twilio"
   ]
  },
  {
   "cell_type": "markdown",
   "metadata": {},
   "source": [
    "**Question 3:**\n",
    "What type of file did we ask Text to Speech return?"
   ]
  },
  {
   "cell_type": "raw",
   "metadata": {},
   "source": [
    "wav"
   ]
  },
  {
   "cell_type": "markdown",
   "metadata": {},
   "source": [
    "**Question 4:**\n",
    "How were the service functions chained?"
   ]
  },
  {
   "cell_type": "raw",
   "metadata": {},
   "source": [
    "speak_text(message_assistant(r​ecognize_audio()))"
   ]
  }
 ],
 "metadata": {
  "kernelspec": {
   "display_name": "Python 3",
   "language": "python",
   "name": "python3"
  },
  "language_info": {
   "codemirror_mode": {
    "name": "ipython",
    "version": 3
   },
   "file_extension": ".py",
   "mimetype": "text/x-python",
   "name": "python",
   "nbconvert_exporter": "python",
   "pygments_lexer": "ipython3",
   "version": "3.7.7"
  }
 },
 "nbformat": 4,
 "nbformat_minor": 4
}
