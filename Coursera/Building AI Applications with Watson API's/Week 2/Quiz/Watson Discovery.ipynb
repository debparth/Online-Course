{
 "cells": [
  {
   "cell_type": "markdown",
   "metadata": {},
   "source": [
    "**Question 1:**\n",
    "Watson Discovery includes a News collection by default."
   ]
  },
  {
   "cell_type": "raw",
   "metadata": {},
   "source": [
    "True"
   ]
  },
  {
   "cell_type": "markdown",
   "metadata": {},
   "source": [
    "**Question 2:**\n",
    "Which of these services can be used as a source for a Discovery collection? (Multiple Choice)"
   ]
  },
  {
   "cell_type": "raw",
   "metadata": {},
   "source": [
    "IBM Cloud Object Storage\n",
    "\n",
    "Box\n",
    "\n",
    "Salesforce\n",
    "\n",
    "SharePoint"
   ]
  },
  {
   "cell_type": "markdown",
   "metadata": {},
   "source": [
    "**Question 3:**\n",
    "What does DQL stands for?"
   ]
  },
  {
   "cell_type": "raw",
   "metadata": {},
   "source": [
    "Discovery Query Language"
   ]
  },
  {
   "cell_type": "markdown",
   "metadata": {},
   "source": [
    "**Question 4:**\n",
    "Which of the following query modes are supported in Discovery? (Multiple Choice)"
   ]
  },
  {
   "cell_type": "raw",
   "metadata": {},
   "source": [
    "Visual mode\n",
    "\n",
    "Natural language\n",
    "\n",
    "DQL"
   ]
  },
  {
   "cell_type": "markdown",
   "metadata": {},
   "source": [
    "**Question 5:**\n",
    "We can add Watson enrichments to data to better classify documents by attaching useful metadata to them (e.g., entities, concepts, keywords)."
   ]
  },
  {
   "cell_type": "raw",
   "metadata": {},
   "source": [
    "True"
   ]
  }
 ],
 "metadata": {
  "kernelspec": {
   "display_name": "Python 3",
   "language": "python",
   "name": "python3"
  },
  "language_info": {
   "codemirror_mode": {
    "name": "ipython",
    "version": 3
   },
   "file_extension": ".py",
   "mimetype": "text/x-python",
   "name": "python",
   "nbconvert_exporter": "python",
   "pygments_lexer": "ipython3",
   "version": "3.7.7"
  }
 },
 "nbformat": 4,
 "nbformat_minor": 4
}
