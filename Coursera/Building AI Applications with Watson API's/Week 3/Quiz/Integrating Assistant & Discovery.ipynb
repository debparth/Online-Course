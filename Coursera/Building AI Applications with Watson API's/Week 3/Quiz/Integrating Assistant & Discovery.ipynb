{
 "cells": [
  {
   "cell_type": "markdown",
   "metadata": {},
   "source": [
    "**Question 1:**\n",
    "When integrating Watson Assistant and Watson Discovery, it is handy to use IBM Cloud Functions as an intermediary."
   ]
  },
  {
   "cell_type": "raw",
   "metadata": {},
   "source": [
    "True"
   ]
  },
  {
   "cell_type": "markdown",
   "metadata": {},
   "source": [
    "**Question 2:**\n",
    "Integration between various Watson services is possible thanks to APIs."
   ]
  },
  {
   "cell_type": "raw",
   "metadata": {},
   "source": [
    "True"
   ]
  },
  {
   "cell_type": "markdown",
   "metadata": {},
   "source": [
    "**Question 3:**\n",
    "Which of these values are required to successfully query a Discovery collection through its API? (Multiple Choice)"
   ]
  },
  {
   "cell_type": "raw",
   "metadata": {},
   "source": [
    "The Discovery password (e.g., the actual API KEY)\n",
    "\n",
    "The Discovery username (e.g., apikey)\n",
    "\n",
    "ENVIRONMENT_ID\n",
    "\n",
    "COLLECTION_ID"
   ]
  },
  {
   "cell_type": "markdown",
   "metadata": {},
   "source": [
    "**Question 4:**\n",
    "Specifying \"result_variable\": \"context.courses\" in the JSON editor for a node calling an IBM Function, will place the result of the function in which variable?"
   ]
  },
  {
   "cell_type": "raw",
   "metadata": {},
   "source": [
    "In the $courses context variable."
   ]
  },
  {
   "cell_type": "markdown",
   "metadata": {},
   "source": [
    "**Question 5:**\n",
    "At some point, in the lab, we use <? $courses.courses.get(0).name ?> in the response of a node that calls an IBM Function. This fragment of code will display the name of the first course returned by the query."
   ]
  },
  {
   "cell_type": "raw",
   "metadata": {},
   "source": [
    "True"
   ]
  }
 ],
 "metadata": {
  "kernelspec": {
   "display_name": "Python 3",
   "language": "python",
   "name": "python3"
  },
  "language_info": {
   "codemirror_mode": {
    "name": "ipython",
    "version": 3
   },
   "file_extension": ".py",
   "mimetype": "text/x-python",
   "name": "python",
   "nbconvert_exporter": "python",
   "pygments_lexer": "ipython3",
   "version": "3.7.7"
  }
 },
 "nbformat": 4,
 "nbformat_minor": 4
}
