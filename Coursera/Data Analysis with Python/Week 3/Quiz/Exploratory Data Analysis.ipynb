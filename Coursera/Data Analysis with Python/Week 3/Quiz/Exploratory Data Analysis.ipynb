{
 "cells": [
  {
   "cell_type": "markdown",
   "metadata": {},
   "source": [
    "**Question 1:**\n",
    "What task does the method value_counts perform?"
   ]
  },
  {
   "cell_type": "raw",
   "metadata": {},
   "source": [
    "Returns counts of unique values"
   ]
  },
  {
   "cell_type": "markdown",
   "metadata": {},
   "source": [
    "**Question 2:**\n",
    "What does the vertical axis in a scatter plot represent?"
   ]
  },
  {
   "cell_type": "raw",
   "metadata": {},
   "source": [
    "Dependent variable"
   ]
  },
  {
   "cell_type": "markdown",
   "metadata": {},
   "source": [
    "**Question 3:**\n",
    "What is the largest possible element resulting in the operation df.corr()?"
   ]
  },
  {
   "cell_type": "raw",
   "metadata": {},
   "source": [
    "1"
   ]
  },
  {
   "cell_type": "markdown",
   "metadata": {},
   "source": [
    "**Question 4:**\n",
    "If the p-value of the Pearson Correlation is 1, then ..."
   ]
  },
  {
   "cell_type": "raw",
   "metadata": {},
   "source": [
    "None of the above"
   ]
  },
  {
   "cell_type": "markdown",
   "metadata": {},
   "source": [
    "**Question 5:**\n",
    "Consider the following dataframe:\n",
    "\n",
    "df_test = df[['body-style', 'price']] <br>\n",
    "df_grp = df_test.groupby(['body-style'], as_index=False).mean() <br>\n",
    "\n",
    "What are the resulting values of: df_grp[‘price’]?"
   ]
  },
  {
   "cell_type": "raw",
   "metadata": {},
   "source": [
    "The average price for each body style"
   ]
  },
  {
   "cell_type": "markdown",
   "metadata": {},
   "source": [
    "**Question 6:**\n",
    "Correlation implies causation"
   ]
  },
  {
   "cell_type": "raw",
   "metadata": {},
   "source": [
    "False"
   ]
  },
  {
   "cell_type": "markdown",
   "metadata": {},
   "source": [
    "**Question 7:**\n",
    "What is the Pearson Correlation between variables X and Y, if X=Y?"
   ]
  },
  {
   "cell_type": "raw",
   "metadata": {},
   "source": [
    "1"
   ]
  }
 ],
 "metadata": {
  "kernelspec": {
   "display_name": "Python 3",
   "language": "python",
   "name": "python3"
  },
  "language_info": {
   "codemirror_mode": {
    "name": "ipython",
    "version": 3
   },
   "file_extension": ".py",
   "mimetype": "text/x-python",
   "name": "python",
   "nbconvert_exporter": "python",
   "pygments_lexer": "ipython3",
   "version": "3.7.7"
  }
 },
 "nbformat": 4,
 "nbformat_minor": 4
}
