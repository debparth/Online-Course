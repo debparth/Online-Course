{
 "cells": [
  {
   "cell_type": "markdown",
   "metadata": {},
   "source": [
    "**Question 1:** \n",
    "Consider the class Points, what are the data attributes:"
   ]
  },
  {
   "cell_type": "markdown",
   "metadata": {},
   "source": [
    "class Point(object):\n",
    "    def __init__(self,x,y):\n",
    "        self.x=x\n",
    "        self.y=y\n",
    "    def print_point(self):\n",
    "        print('x=',self.x,'y=',self.y)"
   ]
  },
  {
   "cell_type": "code",
   "execution_count": null,
   "metadata": {},
   "outputs": [],
   "source": [
    "self.x \n",
    "self.y"
   ]
  },
  {
   "cell_type": "markdown",
   "metadata": {},
   "source": [
    "**Question 2:**\n",
    "What is the result of running the following lines of code?"
   ]
  },
  {
   "cell_type": "markdown",
   "metadata": {},
   "source": [
    "class Points(object):\n",
    "    def __init__(self,x,y):\n",
    "        self.x=x\n",
    "        self.y=y\n",
    "    def print_point(self):\n",
    "        print('x=',self.x,' y=',self.y)\n",
    "\n",
    "p1=Points(\"A\",\"B\")\n",
    "p1.print_point()"
   ]
  },
  {
   "cell_type": "code",
   "execution_count": null,
   "metadata": {},
   "outputs": [],
   "source": [
    "x= A y= B"
   ]
  },
  {
   "cell_type": "markdown",
   "metadata": {},
   "source": [
    "**Question 3:**\n",
    "What is the result of running the following lines of code?"
   ]
  },
  {
   "cell_type": "markdown",
   "metadata": {},
   "source": [
    "class Points(object):\n",
    "  def __init__(self,x,y):\n",
    "    self.x=x\n",
    "    self.y=y\n",
    "\n",
    "  def print_point(self):\n",
    "    print('x=',self.x,' y=',self.y)\n",
    "\n",
    "p2=Points(1,2)\n",
    "p2.x=2\n",
    "p2.print_point()"
   ]
  },
  {
   "cell_type": "code",
   "execution_count": null,
   "metadata": {},
   "outputs": [],
   "source": [
    "x=2 y=2"
   ]
  }
 ],
 "metadata": {
  "kernelspec": {
   "display_name": "Python 3",
   "language": "python",
   "name": "python3"
  },
  "language_info": {
   "codemirror_mode": {
    "name": "ipython",
    "version": 3
   },
   "file_extension": ".py",
   "mimetype": "text/x-python",
   "name": "python",
   "nbconvert_exporter": "python",
   "pygments_lexer": "ipython3",
   "version": "3.7.7"
  }
 },
 "nbformat": 4,
 "nbformat_minor": 4
}
