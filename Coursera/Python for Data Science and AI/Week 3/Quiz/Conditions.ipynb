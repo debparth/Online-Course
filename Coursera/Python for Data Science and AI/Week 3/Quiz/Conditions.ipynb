{
 "cells": [
  {
   "cell_type": "markdown",
   "metadata": {},
   "source": [
    "**Question 1:** \n",
    "What value of x will produce the output:\n",
    "\n",
    "x=\"\" <br>\n",
    "if(x==\"A\"): <br>\n",
    "  &emsp;print('Hello') <br>\n",
    "else: <br>\n",
    "  &emsp;print('Hi')\n",
    "print('Mike')"
   ]
  },
  {
   "cell_type": "markdown",
   "metadata": {},
   "source": [
    "x=\"A\""
   ]
  },
  {
   "cell_type": "markdown",
   "metadata": {},
   "source": [
    "**Question 2:**\n",
    "What is the output of the following code:\n",
    "\n",
    "x=\"Go\" <br>\n",
    "\n",
    "if(x==\"Go\"): <br>\n",
    "  &emsp;print('Go ') <br>\n",
    "else: <br>\n",
    "  &emsp;print('Stop') <br>\n",
    "print('Mike')"
   ]
  },
  {
   "cell_type": "markdown",
   "metadata": {},
   "source": [
    "Go Mike"
   ]
  },
  {
   "cell_type": "markdown",
   "metadata": {},
   "source": [
    "**Question 3:**\n",
    "What is the result of the following lines of code:\n",
    "\n",
    "x=1<br>\n",
    "x>5"
   ]
  },
  {
   "cell_type": "markdown",
   "metadata": {},
   "source": [
    "False"
   ]
  }
 ],
 "metadata": {
  "kernelspec": {
   "display_name": "Python 3",
   "language": "python",
   "name": "python3"
  },
  "language_info": {
   "codemirror_mode": {
    "name": "ipython",
    "version": 3
   },
   "file_extension": ".py",
   "mimetype": "text/x-python",
   "name": "python",
   "nbconvert_exporter": "python",
   "pygments_lexer": "ipython3",
   "version": "3.7.7"
  }
 },
 "nbformat": 4,
 "nbformat_minor": 4
}
