{
 "cells": [
  {
   "cell_type": "markdown",
   "metadata": {},
   "source": [
    "**Question 1:**\n",
    "Data visualizations are used to explore a given dataset and perform data analytics and build predictive models.\n"
   ]
  },
  {
   "cell_type": "raw",
   "metadata": {},
   "source": [
    "False."
   ]
  },
  {
   "cell_type": "markdown",
   "metadata": {},
   "source": [
    "**Question 2:**\n",
    "Matplotlib was created by"
   ]
  },
  {
   "cell_type": "raw",
   "metadata": {},
   "source": [
    "John Hunter, an American neurobiologist."
   ]
  },
  {
   "cell_type": "markdown",
   "metadata": {},
   "source": [
    "**Question 3:**\n",
    "The Backend_Bases, Artist, and Scripting Layers are the three layers that make up the Matplotlib architecture."
   ]
  },
  {
   "cell_type": "raw",
   "metadata": {},
   "source": [
    "False"
   ]
  },
  {
   "cell_type": "markdown",
   "metadata": {},
   "source": [
    "**Question 4:**\n",
    "Using the notebook backend, you cannot modify a figure after it is rendered."
   ]
  },
  {
   "cell_type": "raw",
   "metadata": {},
   "source": [
    "False."
   ]
  },
  {
   "cell_type": "markdown",
   "metadata": {},
   "source": [
    "**Question 5:**\n",
    "Which of the following are examples of Matplotlib magic functions? Choose all that apply."
   ]
  },
  {
   "cell_type": "raw",
   "metadata": {},
   "source": [
    "%matplotlib notebook"
   ]
  }
 ],
 "metadata": {
  "kernelspec": {
   "display_name": "Python 3",
   "language": "python",
   "name": "python3"
  },
  "language_info": {
   "codemirror_mode": {
    "name": "ipython",
    "version": 3
   },
   "file_extension": ".py",
   "mimetype": "text/x-python",
   "name": "python",
   "nbconvert_exporter": "python",
   "pygments_lexer": "ipython3",
   "version": "3.7.7"
  }
 },
 "nbformat": 4,
 "nbformat_minor": 4
}
