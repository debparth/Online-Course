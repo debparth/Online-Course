{
 "cells": [
  {
   "cell_type": "markdown",
   "metadata": {},
   "source": [
    "**Question 1:**\n",
    "Area plots are stacked by default."
   ]
  },
  {
   "cell_type": "raw",
   "metadata": {},
   "source": [
    "True"
   ]
  },
  {
   "cell_type": "markdown",
   "metadata": {},
   "source": [
    "**Question 2:**\n",
    "The following code uses the artist layer to create a stacked area plot of the data in the pandas dataframe, area_df."
   ]
  },
  {
   "cell_type": "raw",
   "metadata": {},
   "source": [
    "import matplotlib.pyplot as plt\n",
    "\n",
    "area_df.plot(kind='area', figsize=(20, 10))\n",
    "\n",
    "plt.title('Plot Title')\n",
    "plt.ylabel('Vertical Axis Label')\n",
    "plt.xlabel('Horizontal Axis Label')\n",
    "\n",
    "plt.show()"
   ]
  },
  {
   "cell_type": "raw",
   "metadata": {},
   "source": [
    "False"
   ]
  },
  {
   "cell_type": "markdown",
   "metadata": {},
   "source": [
    "**Question 3:**\n",
    "The following code will create a stacked area plot of the data in the pandas dataframe, area_df, with a transparency value of 0.35?"
   ]
  },
  {
   "cell_type": "raw",
   "metadata": {},
   "source": [
    "import matplotlib.pyplot as plt\n",
    "\n",
    "transparency = 0.35 \n",
    "area_df.plot(kind='area', alpha=transparency, figsize=(20, 10))\n",
    "\n",
    "plt.title('Plot Title')\n",
    "plt.ylabel('Vertical Axis Label')\n",
    "plt.xlabel('Horizontal Axis Label')\n",
    "\n",
    "plt.show()"
   ]
  },
  {
   "cell_type": "raw",
   "metadata": {},
   "source": [
    "True"
   ]
  },
  {
   "cell_type": "markdown",
   "metadata": {},
   "source": [
    "**Question 4:**\n",
    "The following code will create a histogram of a pandas series, series_data, and align the bin edges with the horizontal tick marks."
   ]
  },
  {
   "cell_type": "raw",
   "metadata": {},
   "source": [
    "count, bin_edges = np.histogram(series_data)\n",
    "series_data.plot(kind='hist', xticks = bin_edges)"
   ]
  },
  {
   "cell_type": "raw",
   "metadata": {},
   "source": [
    "True"
   ]
  },
  {
   "cell_type": "markdown",
   "metadata": {},
   "source": [
    "**Question 5:**\n",
    "Given a pandas dataframe, question, which of the following will create a horizontal bar chart of the data in question?"
   ]
  },
  {
   "cell_type": "raw",
   "metadata": {},
   "source": [
    "question.plot(kind='barh')"
   ]
  }
 ],
 "metadata": {
  "kernelspec": {
   "display_name": "Python 3",
   "language": "python",
   "name": "python3"
  },
  "language_info": {
   "codemirror_mode": {
    "name": "ipython",
    "version": 3
   },
   "file_extension": ".py",
   "mimetype": "text/x-python",
   "name": "python",
   "nbconvert_exporter": "python",
   "pygments_lexer": "ipython3",
   "version": "3.7.7"
  }
 },
 "nbformat": 4,
 "nbformat_minor": 4
}
