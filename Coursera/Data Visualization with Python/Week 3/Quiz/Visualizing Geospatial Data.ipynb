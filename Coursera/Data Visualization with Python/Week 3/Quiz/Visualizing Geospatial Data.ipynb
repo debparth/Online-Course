{
 "cells": [
  {
   "cell_type": "markdown",
   "metadata": {},
   "source": [
    "**Question 1:**\n",
    "Stamen Terrain, Stamen Toner, and Open Stamen, are three tile styles of Folium maps."
   ]
  },
  {
   "cell_type": "raw",
   "metadata": {},
   "source": [
    "False"
   ]
  },
  {
   "cell_type": "markdown",
   "metadata": {},
   "source": [
    "**Question 2:**\n",
    "What tile style of Folium maps is useful for data mashups and exploring river meanders and coastal zones?"
   ]
  },
  {
   "cell_type": "raw",
   "metadata": {},
   "source": [
    "Stamen Toner"
   ]
  },
  {
   "cell_type": "markdown",
   "metadata": {},
   "source": [
    "**Question 3:**\n",
    "You cluster markers, superimposed onto a map in Folium, using a marker cluster object."
   ]
  },
  {
   "cell_type": "raw",
   "metadata": {},
   "source": [
    "True."
   ]
  },
  {
   "cell_type": "markdown",
   "metadata": {},
   "source": [
    "**Question 4:**\n",
    "The following code will generate a map of Spain, displaying its hill shading and natural vegetation.\n",
    "\n",
    "folium.Map(location=[-40.4637, -3.7492], zoom_start=6, tiles='Stamen Toner')"
   ]
  },
  {
   "cell_type": "raw",
   "metadata": {},
   "source": [
    "False"
   ]
  },
  {
   "cell_type": "markdown",
   "metadata": {},
   "source": [
    "**Question 5:**\n",
    "A choropleth map is a thematic map in which areas are shaded or patterned in proportion to the measurement of the statistical variable being displayed on the map."
   ]
  },
  {
   "cell_type": "raw",
   "metadata": {},
   "source": [
    "True."
   ]
  }
 ],
 "metadata": {
  "kernelspec": {
   "display_name": "Python 3",
   "language": "python",
   "name": "python3"
  },
  "language_info": {
   "codemirror_mode": {
    "name": "ipython",
    "version": 3
   },
   "file_extension": ".py",
   "mimetype": "text/x-python",
   "name": "python",
   "nbconvert_exporter": "python",
   "pygments_lexer": "ipython3",
   "version": "3.7.7"
  }
 },
 "nbformat": 4,
 "nbformat_minor": 4
}
