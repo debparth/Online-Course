{
 "cells": [
  {
   "cell_type": "markdown",
   "metadata": {},
   "source": [
    "**Question 1:** \n",
    "The Data Understanding stage refers to the stage of removing redundant data."
   ]
  },
  {
   "cell_type": "markdown",
   "metadata": {},
   "source": [
    "False"
   ]
  },
  {
   "cell_type": "markdown",
   "metadata": {},
   "source": [
    "**Question 2:**\n",
    "In the case study, during the Data Understanding stage, data scientists discovered that not all the congestive heart failure admissions that were expected were being captured. What action did they take to resolve the issue?"
   ]
  },
  {
   "cell_type": "markdown",
   "metadata": {},
   "source": [
    "The data scientists looped back to the Data Collection stage, adding secondary and tertiary diagnoses, and building a more comprehensive definition of congestive heart failure admission."
   ]
  },
  {
   "cell_type": "markdown",
   "metadata": {},
   "source": [
    "**Question 3:**\n",
    "The Data Preparation stage involves correcting invalid values and addressing outliers."
   ]
  },
  {
   "cell_type": "markdown",
   "metadata": {},
   "source": [
    "True"
   ]
  },
  {
   "cell_type": "markdown",
   "metadata": {},
   "source": [
    "**Question4:**\n",
    "Select the correct statement about what data scientists do during the Data Preparation stage:"
   ]
  },
  {
   "cell_type": "markdown",
   "metadata": {},
   "source": [
    "During the Data Preparation stage, data scientists define the variables to be used in the model.<br>\n",
    "During the Data Preparation stage, data scientists determine the timing of events.<br>\n",
    "During the Data Preparation stage, data scientists aggregate the data and merge them from different sources.<br>\n",
    "During the Data Preparation stage, data scientists identify missing data."
   ]
  },
  {
   "cell_type": "markdown",
   "metadata": {},
   "source": [
    "**Question 5:**\n",
    "The Data Preparation stage is a very iterative and complicated stage that cannot be accelerated through automation."
   ]
  },
  {
   "cell_type": "markdown",
   "metadata": {},
   "source": [
    "False"
   ]
  },
  {
   "cell_type": "markdown",
   "metadata": {},
   "source": [
    "\n",
    "2.Question 2\n",
    "In the case study, during the Data Understanding stage, data scientists discovered that not all the congestive heart failure admissions that were expected were being captured. What action did they take to resolve the issue?\n",
    "\n",
    "\n",
    "The data scientists did not need to do anything. In this case, expectations for the data were incorrect.\n",
    "\n",
    "\n",
    "\n",
    "\n",
    "\n",
    "The data scientists added the missing data manually.\n",
    "\n",
    "\n",
    "The data scientists looped back to the Business Understanding stage to redefine the requirements.\n",
    "\n",
    "1 point\n",
    "3.Question 3\n",
    "Select the correct statement about the Data Preparation stage.\n",
    "\n",
    "\n",
    "The Data Preparation stage involves addressing missing values.\n",
    "\n",
    "\n",
    "The Data Preparation stage involves correcting invalid values and addressing outliers.\n",
    "\n",
    "\n",
    "The Data Preparation stage involves removing duplicate data.\n",
    "\n",
    "\n",
    "The Data Preparation stage involves properly formatting the data.\n",
    "\n",
    "\n",
    "All of the above statements are correct.\n",
    "\n",
    "1 point\n",
    "4.Question 4\n",
    "Select the correct statement about what data scientists do during the Data Preparation stage.\n",
    "\n",
    "\n",
    "During the Data Preparation stage, data scientists define the variables to be used in the model.\n",
    "\n",
    "\n",
    "During the Data Preparation stage, data scientists determine the timing of events.\n",
    "\n",
    "\n",
    "During the Data Preparation stage, data scientists aggregate the data and merge them from different sources.\n",
    "\n",
    "\n",
    "During the Data Preparation stage, data scientists identify missing data.\n",
    "\n",
    "\n",
    "All of the above statements are correct.\n",
    "\n",
    "1 point\n",
    "5.Question 5\n",
    "Select the correct statement about the Data Preparation stage of the data science methodology.\n",
    "\n",
    "\n",
    "Data Preparation is typically the least time-consuming methodological step.\n",
    "\n",
    "\n",
    "Data Preparation involves dealing with missing improperly coded data and can include using text analysis to structure unstructured or semi-structured text data.\n",
    "\n"
   ]
  }
 ],
 "metadata": {
  "kernelspec": {
   "display_name": "Python 3",
   "language": "python",
   "name": "python3"
  },
  "language_info": {
   "codemirror_mode": {
    "name": "ipython",
    "version": 3
   },
   "file_extension": ".py",
   "mimetype": "text/x-python",
   "name": "python",
   "nbconvert_exporter": "python",
   "pygments_lexer": "ipython3",
   "version": "3.7.7"
  }
 },
 "nbformat": 4,
 "nbformat_minor": 4
}
