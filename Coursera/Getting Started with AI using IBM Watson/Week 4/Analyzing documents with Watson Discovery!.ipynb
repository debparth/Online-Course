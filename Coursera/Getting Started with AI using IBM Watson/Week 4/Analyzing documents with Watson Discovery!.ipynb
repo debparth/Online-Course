{
 "cells": [
  {
   "cell_type": "markdown",
   "metadata": {},
   "source": [
    "**Question 1:**\n",
    "In what ways can Watson Discovery improve the work flow of your business?"
   ]
  },
  {
   "cell_type": "raw",
   "metadata": {},
   "source": [
    "Extract, valuable information, sentiment, concepts and semantic roles from your collection of documents."
   ]
  },
  {
   "cell_type": "markdown",
   "metadata": {},
   "source": [
    "**Question 2:**\n",
    "What Machine Learning technique does Watson Discovery use to optimize your workflow."
   ]
  },
  {
   "cell_type": "raw",
   "metadata": {},
   "source": [
    "Natural Language Processing"
   ]
  },
  {
   "cell_type": "markdown",
   "metadata": {},
   "source": [
    "**Question 3:**\n",
    "When you uploaded your documents on Watson Discovery, where will your documents be hosted."
   ]
  },
  {
   "cell_type": "raw",
   "metadata": {},
   "source": [
    "Collection"
   ]
  },
  {
   "cell_type": "markdown",
   "metadata": {},
   "source": [
    "**Question 4:**\n",
    "What is the format of the documents that you can upload to Watson Discovery? (Multiple Choice)"
   ]
  },
  {
   "cell_type": "raw",
   "metadata": {},
   "source": [
    "PDF\n",
    "\n",
    "JSON\n",
    "\n",
    "HTML\n",
    "\n",
    "Excel\n",
    "\n",
    "PNG"
   ]
  },
  {
   "cell_type": "markdown",
   "metadata": {},
   "source": [
    "**Question 5:**\n",
    "What is the limit in size for the document that you can upload?"
   ]
  },
  {
   "cell_type": "raw",
   "metadata": {},
   "source": [
    "50 Megabytes"
   ]
  },
  {
   "cell_type": "markdown",
   "metadata": {},
   "source": [
    "**Question 6:**\n",
    "After you uploaded your document, and it has finished processing. You click on the \"Schema\" tag, what are the two views in which you can view the information extracted from your document? (Multiple Choice)"
   ]
  },
  {
   "cell_type": "raw",
   "metadata": {},
   "source": [
    "Document view\n",
    "\n",
    "Collection view"
   ]
  },
  {
   "cell_type": "markdown",
   "metadata": {},
   "source": [
    "**Question 7:**\n",
    "After you uploaded your document, and it has finished processing. You click on the \"Search\" tag, what are the two search option in which you can extract useful information extracted from your document? (Multiple Choice)"
   ]
  },
  {
   "cell_type": "raw",
   "metadata": {},
   "source": [
    "Use natural language\n",
    "\n",
    "Use the Discovery Query Language"
   ]
  }
 ],
 "metadata": {
  "kernelspec": {
   "display_name": "Python 3",
   "language": "python",
   "name": "python3"
  },
  "language_info": {
   "codemirror_mode": {
    "name": "ipython",
    "version": 3
   },
   "file_extension": ".py",
   "mimetype": "text/x-python",
   "name": "python",
   "nbconvert_exporter": "python",
   "pygments_lexer": "ipython3",
   "version": "3.7.7"
  }
 },
 "nbformat": 4,
 "nbformat_minor": 4
}
