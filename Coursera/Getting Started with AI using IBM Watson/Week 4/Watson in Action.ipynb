{
 "cells": [
  {
   "cell_type": "markdown",
   "metadata": {},
   "source": [
    "**Question 1:**\n",
    "The Watson at Work video presents a Watson use case for KONE elevators. How does IBM Watson analyze for wear and tear, bumpy rides and misalignments in the elevator?"
   ]
  },
  {
   "cell_type": "raw",
   "metadata": {},
   "source": [
    "Elevators are being equipped with IoT sensors that connect to the IBM Cloud and help Watson in analyzing the data for wear and tear, bumpy rides, and the smallest misalignments."
   ]
  },
  {
   "cell_type": "markdown",
   "metadata": {},
   "source": [
    "**Question 2:**\n",
    "Which of the following categories is NOT a use case for IBM Watson?"
   ]
  },
  {
   "cell_type": "raw",
   "metadata": {},
   "source": [
    "Time management service"
   ]
  },
  {
   "cell_type": "markdown",
   "metadata": {},
   "source": [
    "**Question 3:**\n",
    "You are a business owner who wants to track all the obligations in your Statement of Work contracts with clients to ensure they have been met. Which Watson service would this use case fit?"
   ]
  },
  {
   "cell_type": "raw",
   "metadata": {},
   "source": [
    "Watson Compare and Comply"
   ]
  },
  {
   "cell_type": "markdown",
   "metadata": {},
   "source": [
    "**Question 4:**\n",
    "What do Woodside and Abu Dhabi National Oil Company (ADNOC) have in common in their use of AI?"
   ]
  },
  {
   "cell_type": "raw",
   "metadata": {},
   "source": [
    "Both companies want to gather and retain knowledge and make it easily accessible to younger workers."
   ]
  },
  {
   "cell_type": "markdown",
   "metadata": {},
   "source": [
    "**Question 5:**\n",
    "Which of the following is a benefit of having an integrated AI system in a call center environment?"
   ]
  },
  {
   "cell_type": "raw",
   "metadata": {},
   "source": [
    "Reducing costs"
   ]
  },
  {
   "cell_type": "markdown",
   "metadata": {},
   "source": [
    "**Question 6:**\n",
    "At Bradesco, after 5 months of training, what percentage of written questions could Watson understand?"
   ]
  },
  {
   "cell_type": "raw",
   "metadata": {},
   "source": [
    "100%"
   ]
  },
  {
   "cell_type": "markdown",
   "metadata": {},
   "source": [
    "**Question 7:**\n",
    "Which of the following technologies does Coca-Cola use to assist its field engineers to fix broken beverage dispensing machines?"
   ]
  },
  {
   "cell_type": "raw",
   "metadata": {},
   "source": [
    "Watson Visual Recognition"
   ]
  },
  {
   "cell_type": "markdown",
   "metadata": {},
   "source": [
    "**Question 8:**\n",
    "Woodside, like many organizations, faces losing historical knowledge as the older generation of workers retires. AI systems can be a key part of retaining that knowledge and making it easily accessible to younger workers."
   ]
  },
  {
   "cell_type": "raw",
   "metadata": {},
   "source": [
    "True"
   ]
  },
  {
   "cell_type": "markdown",
   "metadata": {},
   "source": [
    "**Question 9:**\n",
    "What mindset did Woodside notice amongst its workers after introducing an AI system?"
   ]
  },
  {
   "cell_type": "raw",
   "metadata": {},
   "source": [
    "Retiring workers are proud to leave their knowledge as a legacy for the future."
   ]
  },
  {
   "cell_type": "markdown",
   "metadata": {},
   "source": [
    "**Question 10:**\n",
    "You are head of an organization that has realized that it is slowly losing expert knowledge as older workers retire. Which of the following techniques will NOT help mitigate the problem?"
   ]
  },
  {
   "cell_type": "raw",
   "metadata": {},
   "source": [
    "Implement a secure monitoring system to ensure workers leaving the company do not take sensitive industry information with them."
   ]
  }
 ],
 "metadata": {
  "kernelspec": {
   "display_name": "Python 3",
   "language": "python",
   "name": "python3"
  },
  "language_info": {
   "codemirror_mode": {
    "name": "ipython",
    "version": 3
   },
   "file_extension": ".py",
   "mimetype": "text/x-python",
   "name": "python",
   "nbconvert_exporter": "python",
   "pygments_lexer": "ipython3",
   "version": "3.7.7"
  }
 },
 "nbformat": 4,
 "nbformat_minor": 4
}
