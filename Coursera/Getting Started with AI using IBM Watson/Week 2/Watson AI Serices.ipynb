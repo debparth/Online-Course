{
 "cells": [
  {
   "cell_type": "markdown",
   "metadata": {},
   "source": [
    "**Question 1:**\n",
    "Which of the following AI offerings does IBM Watson provide?\n"
   ]
  },
  {
   "cell_type": "raw",
   "metadata": {},
   "source": [
    "Advanced APIs, specialized tooling, and Software as a Service (SaaS)"
   ]
  },
  {
   "cell_type": "markdown",
   "metadata": {},
   "source": [
    "**Question 2:**\n",
    "Which of the following statements about Watson Assistant is correct?"
   ]
  },
  {
   "cell_type": "raw",
   "metadata": {},
   "source": [
    "Watson Assistant understands the intent of what users are saying."
   ]
  },
  {
   "cell_type": "markdown",
   "metadata": {},
   "source": [
    "**Question 3:**\n",
    "Which of the following tasks does Watson Discovery perform?<br/>\n",
    "A. Ingest and standardize both structured and unstructured data. <br/>\n",
    "B. Use natural language queries to search your data.<br/>\n",
    "C. Create a chatbot to interact with your customers.<br/>\n",
    "D. Display your data with time series, graphs and aggregations.<br/>"
   ]
  },
  {
   "cell_type": "raw",
   "metadata": {},
   "source": [
    "Only options A, B, and D are correct"
   ]
  },
  {
   "cell_type": "markdown",
   "metadata": {},
   "source": [
    "**Question 4:**\n",
    "Which of the following tasks can Watson Natural Language Understanding help you with?"
   ]
  },
  {
   "cell_type": "raw",
   "metadata": {},
   "source": [
    "Extracting the names of people and places discussed in a news article."
   ]
  },
  {
   "cell_type": "markdown",
   "metadata": {},
   "source": [
    "**Question 5:**\n",
    "You are developing an app that can analyze images and text from unstructured sources. Which Watson Service would you use?"
   ]
  },
  {
   "cell_type": "raw",
   "metadata": {},
   "source": [
    "Watson Visual Recognition"
   ]
  },
  {
   "cell_type": "markdown",
   "metadata": {},
   "source": [
    "**Question 6:**\n",
    "Which of the following is a feature of Watson Knowledge Studio?"
   ]
  },
  {
   "cell_type": "raw",
   "metadata": {},
   "source": [
    "Helps you build a machine learning model to extract information specific to your business."
   ]
  },
  {
   "cell_type": "markdown",
   "metadata": {},
   "source": [
    "**Question 7:**\n",
    "Which of the following statements about Watson Speech to Text is correct?"
   ]
  },
  {
   "cell_type": "raw",
   "metadata": {},
   "source": [
    "Watson Speech to Text converts human voice to text."
   ]
  },
  {
   "cell_type": "markdown",
   "metadata": {},
   "source": [
    "**Question 8:**\n",
    "Which of the following statements about Watson Text to Speech is correct?"
   ]
  },
  {
   "cell_type": "raw",
   "metadata": {},
   "source": [
    "Watson Text to Speech converts written text to natural sounding language."
   ]
  },
  {
   "cell_type": "markdown",
   "metadata": {},
   "source": [
    "**Question 9:**\n",
    "Which of the following is the reason for choosing Watson Language Translator over a human translator?"
   ]
  },
  {
   "cell_type": "raw",
   "metadata": {},
   "source": [
    "Watson Language Translator can translate data from a wide variety of sources."
   ]
  },
  {
   "cell_type": "markdown",
   "metadata": {},
   "source": [
    "**Question 10:**\n",
    "You work for a recruitment company, and you are looking for help to sort through the huge volumes of applications you receive for each job you advertise. Which of the following capabilities of Watson Language Classifier will help you with this task?"
   ]
  },
  {
   "cell_type": "raw",
   "metadata": {},
   "source": [
    "Organize job applicants into categories based on key skills listed on their applications."
   ]
  }
 ],
 "metadata": {
  "kernelspec": {
   "display_name": "Python 3",
   "language": "python",
   "name": "python3"
  },
  "language_info": {
   "codemirror_mode": {
    "name": "ipython",
    "version": 3
   },
   "file_extension": ".py",
   "mimetype": "text/x-python",
   "name": "python",
   "nbconvert_exporter": "python",
   "pygments_lexer": "ipython3",
   "version": "3.7.7"
  }
 },
 "nbformat": 4,
 "nbformat_minor": 4
}
