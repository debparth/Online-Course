{
 "cells": [
  {
   "cell_type": "markdown",
   "metadata": {},
   "source": [
    "**Question 1:**\n",
    "In which of the following ways is Watson currently helping solve business problems?"
   ]
  },
  {
   "cell_type": "raw",
   "metadata": {},
   "source": [
    "A, B, and C are all correct."
   ]
  },
  {
   "cell_type": "markdown",
   "metadata": {},
   "source": [
    "**Question 2:**\n",
    "Which of the following statements about Transfer Learning is INCORRECT?"
   ]
  },
  {
   "cell_type": "raw",
   "metadata": {},
   "source": [
    "Transfer Learning requires massive amounts of training data for each new related use case."
   ]
  },
  {
   "cell_type": "markdown",
   "metadata": {},
   "source": [
    "**Question 3:**\n",
    "What are the different approaches clients can take to enrich their customer service experience?"
   ]
  },
  {
   "cell_type": "raw",
   "metadata": {},
   "source": [
    "Only options A, B, and D are correct"
   ]
  },
  {
   "cell_type": "markdown",
   "metadata": {},
   "source": [
    "**Question 4:**\n",
    "Which of the following is an attribute of intelligent chatbots?"
   ]
  },
  {
   "cell_type": "raw",
   "metadata": {},
   "source": [
    "An intelligent bot can understand when the customer is best served by a human agent and connects the customer to a human agent for such interactions."
   ]
  },
  {
   "cell_type": "markdown",
   "metadata": {},
   "source": [
    "**Question 5:**\n",
    "Which of these are examples of Watson assisting in compliance-oriented business processes? (Multiple Choice)"
   ]
  },
  {
   "cell_type": "raw",
   "metadata": {},
   "source": [
    "Helping professionals analyze contracts and statements of work to facilitate effective contract governance and fulfillment of tangible items and services.\n",
    "\n",
    "Analyzing structured and unstructured data in incident reports to identify the causes and corresponding mitigation actions.\n",
    "\n",
    "Helping data privacy professionals maintain an up to the minute understanding of the continually evolving regulations, across jurisdictions.\n",
    "\n",
    "Assisting legal teams by analyzing transactions to ensure adherence to tax law compliances."
   ]
  },
  {
   "cell_type": "markdown",
   "metadata": {},
   "source": [
    "**Question 6:**\n",
    "Which of these are attributes of IBM’s Cognitive APIs?"
   ]
  },
  {
   "cell_type": "raw",
   "metadata": {},
   "source": [
    "IBM Cognitive APIs are based on an input/output system, where your input is data that the API feeds into Watson, and the output is the delivery of the overall outcome based on that data."
   ]
  },
  {
   "cell_type": "markdown",
   "metadata": {},
   "source": [
    "**Question 7:**\n",
    "Watson's 3-layered transfer learning model allows businesses to retain complete ownership of their data and insights."
   ]
  },
  {
   "cell_type": "raw",
   "metadata": {},
   "source": [
    "True"
   ]
  },
  {
   "cell_type": "markdown",
   "metadata": {},
   "source": [
    "**Question 8:**\n",
    "Which of these are the first three steps customers should take to get started on their AI Journey?"
   ]
  },
  {
   "cell_type": "raw",
   "metadata": {},
   "source": [
    "Prove, adopt and scale"
   ]
  },
  {
   "cell_type": "markdown",
   "metadata": {},
   "source": [
    "**Question 9:**\n",
    "How is Watson AI currently serving businesses?<br/>\n",
    "\n",
    "A. Processing massive amounts of data faster.<br/>\n",
    "\n",
    "B. Helping systems learn with minimal amount of training data.<br/>\n",
    "\n",
    "C. Protecting customer-specific data and insights.<br/>\n",
    "\n",
    "D. Helping businesses benefit from the advantages that AI offers without developing AI models from scratch.<br/>"
   ]
  },
  {
   "cell_type": "raw",
   "metadata": {},
   "source": [
    "A, B, C, and D are all correct."
   ]
  },
  {
   "cell_type": "markdown",
   "metadata": {},
   "source": [
    "**Question 10:**\n",
    "Which of these are benefits clients are seeing with the use of intelligent chatbots in customer service?"
   ]
  },
  {
   "cell_type": "raw",
   "metadata": {},
   "source": [
    "Greater job satisfaction for human agents as they engage in the more fulfilling customer interactions that require their creativity and decision-making capabilities."
   ]
  }
 ],
 "metadata": {
  "kernelspec": {
   "display_name": "Python 3",
   "language": "python",
   "name": "python3"
  },
  "language_info": {
   "codemirror_mode": {
    "name": "ipython",
    "version": 3
   },
   "file_extension": ".py",
   "mimetype": "text/x-python",
   "name": "python",
   "nbconvert_exporter": "python",
   "pygments_lexer": "ipython3",
   "version": "3.7.7"
  }
 },
 "nbformat": 4,
 "nbformat_minor": 4
}
