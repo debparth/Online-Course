{
 "cells": [
  {
   "cell_type": "markdown",
   "metadata": {},
   "source": [
    "**Question 1:**\n",
    "Which of the following built-in technologies helps you build machine learning models with a simplified graphical interface?"
   ]
  },
  {
   "cell_type": "raw",
   "metadata": {},
   "source": [
    "Neural Network Modeler"
   ]
  },
  {
   "cell_type": "markdown",
   "metadata": {},
   "source": [
    "**Question 2:**\n",
    "Which of the following statements about Watson Machine Learning is correct?"
   ]
  },
  {
   "cell_type": "raw",
   "metadata": {},
   "source": [
    "Watson Machine Learning is a set of REST APIs that you can call from any programming language."
   ]
  },
  {
   "cell_type": "markdown",
   "metadata": {},
   "source": [
    "**Question 3:**\n",
    "Which of the following statements about Watson Knowledge Catalog active policy enforcement capabilities is correct?"
   ]
  },
  {
   "cell_type": "raw",
   "metadata": {},
   "source": [
    "Support automatic and dynamic masking of sensitive data elements."
   ]
  },
  {
   "cell_type": "markdown",
   "metadata": {},
   "source": [
    "**Question 4:**\n",
    "Which of the following statements about Watson Visual Recognition service is NOT correct?"
   ]
  },
  {
   "cell_type": "raw",
   "metadata": {},
   "source": [
    "Comes trained to your custom specifications with the image data you supply to IBM."
   ]
  },
  {
   "cell_type": "markdown",
   "metadata": {},
   "source": [
    "**Question 5:**\n",
    "You are building a visual recognition system that will identify malformed widgets. Which capability of Watson Visual Recognition will make this possible?"
   ]
  },
  {
   "cell_type": "raw",
   "metadata": {},
   "source": [
    "The ability to build custom models to recognize between good and defective widgets coming out of the assembly line."
   ]
  },
  {
   "cell_type": "markdown",
   "metadata": {},
   "source": [
    "**Question 6:**\n",
    "Which of the following statements about Watson Personality Insights is correct?"
   ]
  },
  {
   "cell_type": "raw",
   "metadata": {},
   "source": [
    "Watson Personality Insights requires no training, it works right out of the box."
   ]
  },
  {
   "cell_type": "markdown",
   "metadata": {},
   "source": [
    "**Question 7:**\n",
    "You are building an AI system that can escalate a customer service call if the customer’s mood becomes angry. Which Watson Service(s) can help you with this?"
   ]
  },
  {
   "cell_type": "raw",
   "metadata": {},
   "source": [
    "Watson Tone Analyzer"
   ]
  },
  {
   "cell_type": "markdown",
   "metadata": {},
   "source": [
    "**Question 8:**\n",
    "Which of the following statements about Watson OpenScale is correct?"
   ]
  },
  {
   "cell_type": "raw",
   "metadata": {},
   "source": [
    "Watson OpenScale is an open platform that operates and automates AI across its lifecycle."
   ]
  },
  {
   "cell_type": "markdown",
   "metadata": {},
   "source": [
    "**Question 9:**\n",
    "You are building an AI system that will help you to identify the payment terms specified in your contracts with third-parties. Which of the following Watson Services could you use?"
   ]
  },
  {
   "cell_type": "raw",
   "metadata": {},
   "source": [
    "Watson Compare and Comply"
   ]
  },
  {
   "cell_type": "markdown",
   "metadata": {},
   "source": [
    "**Question 10:**\n",
    "You are building an AI system that will help you to create personalized marketing content which includes written and voice communication in an appropriate tone for each customer. Which Watson Services can help you with this task?"
   ]
  },
  {
   "cell_type": "raw",
   "metadata": {},
   "source": [
    "Watson Tone Analyzer"
   ]
  }
 ],
 "metadata": {
  "kernelspec": {
   "display_name": "Python 3",
   "language": "python",
   "name": "python3"
  },
  "language_info": {
   "codemirror_mode": {
    "name": "ipython",
    "version": 3
   },
   "file_extension": ".py",
   "mimetype": "text/x-python",
   "name": "python",
   "nbconvert_exporter": "python",
   "pygments_lexer": "ipython3",
   "version": "3.7.7"
  }
 },
 "nbformat": 4,
 "nbformat_minor": 4
}
